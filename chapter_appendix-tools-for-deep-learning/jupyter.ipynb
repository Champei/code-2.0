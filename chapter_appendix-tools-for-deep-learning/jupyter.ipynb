{
  "cells": [
    {
      "cell_type": "code",
      "source": [
        "import torch\n",
        "import torchvision\n",
        "from torchvision.datasets import MNIST"
      ],
      "metadata": {
        "id": "Pi2qX9B9-TKy"
      },
      "id": "Pi2qX9B9-TKy",
      "execution_count": 7,
      "outputs": []
    },
    {
      "cell_type": "code",
      "source": [
        "dataset = MNIST(root='data/', download=True)"
      ],
      "metadata": {
        "colab": {
          "base_uri": "https://localhost:8080/"
        },
        "id": "bM-MfwMg-krI",
        "outputId": "7a37bb28-f0c6-4cc6-fdcf-32595abde62f"
      },
      "id": "bM-MfwMg-krI",
      "execution_count": 8,
      "outputs": [
        {
          "output_type": "stream",
          "name": "stderr",
          "text": [
            "100%|██████████| 9.91M/9.91M [00:01<00:00, 6.11MB/s]\n",
            "100%|██████████| 28.9k/28.9k [00:00<00:00, 160kB/s]\n",
            "100%|██████████| 1.65M/1.65M [00:01<00:00, 1.52MB/s]\n",
            "100%|██████████| 4.54k/4.54k [00:00<00:00, 6.70MB/s]\n"
          ]
        }
      ]
    },
    {
      "cell_type": "code",
      "source": [
        "len(dataset)"
      ],
      "metadata": {
        "colab": {
          "base_uri": "https://localhost:8080/"
        },
        "id": "Kfo6N1aS-tbx",
        "outputId": "83c10074-4555-4afc-8c20-ef8b86ea10c5"
      },
      "id": "Kfo6N1aS-tbx",
      "execution_count": 9,
      "outputs": [
        {
          "output_type": "execute_result",
          "data": {
            "text/plain": [
              "60000"
            ]
          },
          "metadata": {},
          "execution_count": 9
        }
      ]
    },
    {
      "cell_type": "code",
      "source": [
        "test_dataset = MNIST(root='data/', train=False)\n",
        "len(test_dataset)"
      ],
      "metadata": {
        "colab": {
          "base_uri": "https://localhost:8080/"
        },
        "id": "0n1txNnF_E0u",
        "outputId": "b60a5f34-a495-4d36-edf5-a7b61537d007"
      },
      "id": "0n1txNnF_E0u",
      "execution_count": 10,
      "outputs": [
        {
          "output_type": "execute_result",
          "data": {
            "text/plain": [
              "10000"
            ]
          },
          "metadata": {},
          "execution_count": 10
        }
      ]
    },
    {
      "cell_type": "code",
      "source": [
        "import matplotlib.pyplot as plt\n",
        "%matplotlib inline"
      ],
      "metadata": {
        "id": "jAJ7yoKq_O--"
      },
      "id": "jAJ7yoKq_O--",
      "execution_count": 11,
      "outputs": []
    },
    {
      "cell_type": "code",
      "source": [
        "image, label = dataset[0]\n",
        "plt.imshow(image , cmap='gray')\n",
        "print('label:', label)"
      ],
      "metadata": {
        "colab": {
          "base_uri": "https://localhost:8080/",
          "height": 447
        },
        "id": "2RcMdPQK_k3p",
        "outputId": "0d8b87e2-2330-4e52-fd10-909c9cad5893"
      },
      "id": "2RcMdPQK_k3p",
      "execution_count": 12,
      "outputs": [
        {
          "output_type": "stream",
          "name": "stdout",
          "text": [
            "label: 5\n"
          ]
        },
        {
          "output_type": "display_data",
          "data": {
            "text/plain": [
              "<Figure size 640x480 with 1 Axes>"
            ],
            "image/png": "[encoded data removed]"
          },
          "metadata": {}
        }
      ]
    },
    {
      "cell_type": "code",
      "source": [
        "import torchvision.transforms as transforms"
      ],
      "metadata": {
        "id": "rsIK4ydwAMGR"
      },
      "id": "rsIK4ydwAMGR",
      "execution_count": 13,
      "outputs": []
    },
    {
      "cell_type": "code",
      "source": [
        "dataset = MNIST(root='data/', train=True, transform=transforms.ToTensor())"
      ],
      "metadata": {
        "id": "5C9sgoPaAfZ2"
      },
      "id": "5C9sgoPaAfZ2",
      "execution_count": 14,
      "outputs": []
    },
    {
      "cell_type": "code",
      "source": [
        "img_tensor, label = dataset[0]\n",
        "print(img_tensor.shape)\n",
        "print(label)"
      ],
      "metadata": {
        "colab": {
          "base_uri": "https://localhost:8080/"
        },
        "id": "Tkz3uyrVC-7z",
        "outputId": "6f80c712-32d3-4d42-cd55-225360e1bfc5"
      },
      "id": "Tkz3uyrVC-7z",
      "execution_count": 15,
      "outputs": [
        {
          "output_type": "stream",
          "name": "stdout",
          "text": [
            "torch.Size([1, 28, 28])\n",
            "5\n"
          ]
        }
      ]
    },
    {
      "cell_type": "code",
      "source": [
        "print(img_tensor[:,10:15,10:15])\n",
        "print(torch.max(img_tensor),torch.min(img_tensor))"
      ],
      "metadata": {
        "colab": {
          "base_uri": "https://localhost:8080/"
        },
        "id": "mJsCz6LEDMOq",
        "outputId": "9b63c145-4361-4e53-a3fc-b898633aa8e3"
      },
      "id": "mJsCz6LEDMOq",
      "execution_count": 16,
      "outputs": [
        {
          "output_type": "stream",
          "name": "stdout",
          "text": [
            "tensor([[[0.0039, 0.6039, 0.9922, 0.3529, 0.0000],\n",
            "         [0.0000, 0.5451, 0.9922, 0.7451, 0.0078],\n",
            "         [0.0000, 0.0431, 0.7451, 0.9922, 0.2745],\n",
            "         [0.0000, 0.0000, 0.1373, 0.9451, 0.8824],\n",
            "         [0.0000, 0.0000, 0.0000, 0.3176, 0.9412]]])\n",
            "tensor(1.) tensor(0.)\n"
          ]
        }
      ]
    },
    {
      "cell_type": "code",
      "source": [
        "plt.imshow(img_tensor[0,10:15,10:15], cmap='gray');"
      ],
      "metadata": {
        "colab": {
          "base_uri": "https://localhost:8080/",
          "height": 430
        },
        "id": "7xL8vr5YD10t",
        "outputId": "80ad33b4-f7f0-413b-c9d5-5c20959b334a"
      },
      "id": "7xL8vr5YD10t",
      "execution_count": 17,
      "outputs": [
        {
          "output_type": "display_data",
          "data": {
            "text/plain": [
              "<Figure size 640x480 with 1 Axes>"
            ],
            "image/png": "[encoded data removed]"
          },
          "metadata": {}
        }
      ]
    },
    {
      "cell_type": "code",
      "source": [
        "from torch.utils.data import random_split\n",
        "\n",
        "train_ds,val_ds = random_split(dataset,[50000,10000])\n",
        "len(train_ds),len(val_ds)"
      ],
      "metadata": {
        "colab": {
          "base_uri": "https://localhost:8080/"
        },
        "id": "j7aswW_lED5A",
        "outputId": "8d141265-9c90-46cb-e6c3-1abc658db832"
      },
      "id": "j7aswW_lED5A",
      "execution_count": 18,
      "outputs": [
        {
          "output_type": "execute_result",
          "data": {
            "text/plain": [
              "(50000, 10000)"
            ]
          },
          "metadata": {},
          "execution_count": 18
        }
      ]
    },
    {
      "cell_type": "code",
      "source": [
        "from torch.utils.data import DataLoader\n",
        "\n",
        "batch_size=128\n",
        "\n",
        "train_loader = DataLoader(train_ds,batch_size,shuffle=True)\n",
        "val_loader = DataLoader(val_ds,batch_size)\n",
        "\n"
      ],
      "metadata": {
        "id": "tz7kgonqFhKC"
      },
      "id": "tz7kgonqFhKC",
      "execution_count": 19,
      "outputs": []
    },
    {
      "cell_type": "code",
      "source": [
        "import torch.nn as nn\n",
        "\n",
        "input_size=28*28\n",
        "num_classes = 10\n",
        "\n",
        "model = nn.Linear(input_size, num_classes)"
      ],
      "metadata": {
        "id": "zY3FYjy7H9yi"
      },
      "id": "zY3FYjy7H9yi",
      "execution_count": 20,
      "outputs": []
    },
    {
      "cell_type": "code",
      "source": [
        "print(model.weight.shape)\n",
        "model.weight"
      ],
      "metadata": {
        "colab": {
          "base_uri": "https://localhost:8080/"
        },
        "id": "W_lLpEP3IL2T",
        "outputId": "5396f632-a181-44be-ccd0-f4c5f1d94670"
      },
      "id": "W_lLpEP3IL2T",
      "execution_count": 21,
      "outputs": [
        {
          "output_type": "stream",
          "name": "stdout",
          "text": [
            "torch.Size([10, 784])\n"
          ]
        },
        {
          "output_type": "execute_result",
          "data": {
            "text/plain": [
              "Parameter containing:\n",
              "tensor([[-0.0019,  0.0231,  0.0176,  ...,  0.0277,  0.0211,  0.0091],\n",
              "        [ 0.0169, -0.0352, -0.0092,  ...,  0.0117,  0.0043,  0.0127],\n",
              "        [ 0.0163, -0.0030,  0.0010,  ...,  0.0347, -0.0245, -0.0231],\n",
              "        ...,\n",
              "        [ 0.0088, -0.0256,  0.0196,  ..., -0.0065,  0.0133,  0.0210],\n",
              "        [-0.0001,  0.0284,  0.0021,  ...,  0.0191, -0.0356, -0.0276],\n",
              "        [-0.0334, -0.0232, -0.0275,  ...,  0.0153,  0.0221,  0.0238]],\n",
              "       requires_grad=True)"
            ]
          },
          "metadata": {},
          "execution_count": 21
        }
      ]
    },
    {
      "cell_type": "code",
      "source": [
        "print(model.bias.shape)\n",
        "model.bias"
      ],
      "metadata": {
        "colab": {
          "base_uri": "https://localhost:8080/"
        },
        "id": "goPsuKM4IYQz",
        "outputId": "c97ef7d9-8cbd-463e-f0b0-7323675a90c3"
      },
      "id": "goPsuKM4IYQz",
      "execution_count": 22,
      "outputs": [
        {
          "output_type": "stream",
          "name": "stdout",
          "text": [
            "torch.Size([10])\n"
          ]
        },
        {
          "output_type": "execute_result",
          "data": {
            "text/plain": [
              "Parameter containing:\n",
              "tensor([ 0.0109, -0.0129, -0.0074, -0.0225, -0.0048, -0.0008, -0.0056,  0.0133,\n",
              "        -0.0352, -0.0137], requires_grad=True)"
            ]
          },
          "metadata": {},
          "execution_count": 22
        }
      ]
    },
    {
      "cell_type": "code",
      "source": [
        "for images, labels in train_loader:\n",
        "    print(labels)\n",
        "    print(images.shape)\n",
        "    outputs = model(images)\n",
        "    break"
      ],
      "metadata": {
        "colab": {
          "base_uri": "https://localhost:8080/",
          "height": 460
        },
        "id": "k05NNI56JYvK",
        "outputId": "3574b28b-9a85-4b95-fdaf-72eb4a4d6b62"
      },
      "id": "k05NNI56JYvK",
      "execution_count": 24,
      "outputs": [
        {
          "output_type": "stream",
          "name": "stdout",
          "text": [
            "tensor([1, 4, 7, 2, 0, 6, 1, 7, 5, 7, 1, 1, 8, 1, 6, 3, 1, 3, 1, 9, 7, 4, 0, 3,\n",
            "        1, 2, 5, 8, 3, 9, 3, 6, 3, 8, 0, 1, 0, 7, 0, 0, 6, 6, 4, 0, 6, 6, 9, 8,\n",
            "        1, 2, 4, 8, 4, 0, 6, 4, 5, 5, 5, 6, 5, 9, 1, 6, 6, 1, 0, 4, 4, 3, 7, 0,\n",
            "        4, 7, 6, 6, 8, 1, 0, 1, 6, 1, 2, 9, 9, 0, 5, 3, 7, 4, 5, 3, 2, 1, 1, 8,\n",
            "        6, 5, 6, 9, 8, 6, 3, 3, 5, 1, 8, 4, 9, 9, 1, 0, 8, 8, 6, 7, 6, 6, 3, 1,\n",
            "        4, 4, 3, 0, 1, 0, 4, 8])\n",
            "torch.Size([128, 1, 28, 28])\n"
          ]
        },
        {
          "output_type": "error",
          "ename": "RuntimeError",
          "evalue": "mat1 and mat2 shapes cannot be multiplied (3584x28 and 784x10)",
          "traceback": [
            "\u001b[0;31m---------------------------------------------------------------------------\u001b[0m",
            "\u001b[0;31mRuntimeError\u001b[0m                              Traceback (most recent call last)",
            "\u001b[0;32m/tmp/ipython-input-2153967048.py\u001b[0m in \u001b[0;36m<cell line: 0>\u001b[0;34m()\u001b[0m\n\u001b[1;32m      2\u001b[0m     \u001b[0mprint\u001b[0m\u001b[0;34m(\u001b[0m\u001b[0mlabels\u001b[0m\u001b[0;34m)\u001b[0m\u001b[0;34m\u001b[0m\u001b[0;34m\u001b[0m\u001b[0m\n\u001b[1;32m      3\u001b[0m     \u001b[0mprint\u001b[0m\u001b[0;34m(\u001b[0m\u001b[0mimages\u001b[0m\u001b[0;34m.\u001b[0m\u001b[0mshape\u001b[0m\u001b[0;34m)\u001b[0m\u001b[0;34m\u001b[0m\u001b[0;34m\u001b[0m\u001b[0m\n\u001b[0;32m----> 4\u001b[0;31m     \u001b[0moutputs\u001b[0m \u001b[0;34m=\u001b[0m \u001b[0mmodel\u001b[0m\u001b[0;34m(\u001b[0m\u001b[0mimages\u001b[0m\u001b[0;34m)\u001b[0m\u001b[0;34m\u001b[0m\u001b[0;34m\u001b[0m\u001b[0m\n\u001b[0m\u001b[1;32m      5\u001b[0m     \u001b[0;32mbreak\u001b[0m\u001b[0;34m\u001b[0m\u001b[0;34m\u001b[0m\u001b[0m\n",
            "\u001b[0;32m/usr/local/lib/python3.12/dist-packages/torch/nn/modules/module.py\u001b[0m in \u001b[0;36m_wrapped_call_impl\u001b[0;34m(self, *args, **kwargs)\u001b[0m\n\u001b[1;32m   1771\u001b[0m             \u001b[0;32mreturn\u001b[0m \u001b[0mself\u001b[0m\u001b[0;34m.\u001b[0m\u001b[0m_compiled_call_impl\u001b[0m\u001b[0;34m(\u001b[0m\u001b[0;34m*\u001b[0m\u001b[0margs\u001b[0m\u001b[0;34m,\u001b[0m \u001b[0;34m**\u001b[0m\u001b[0mkwargs\u001b[0m\u001b[0;34m)\u001b[0m  \u001b[0;31m# type: ignore[misc]\u001b[0m\u001b[0;34m\u001b[0m\u001b[0;34m\u001b[0m\u001b[0m\n\u001b[1;32m   1772\u001b[0m         \u001b[0;32melse\u001b[0m\u001b[0;34m:\u001b[0m\u001b[0;34m\u001b[0m\u001b[0;34m\u001b[0m\u001b[0m\n\u001b[0;32m-> 1773\u001b[0;31m             \u001b[0;32mreturn\u001b[0m \u001b[0mself\u001b[0m\u001b[0;34m.\u001b[0m\u001b[0m_call_impl\u001b[0m\u001b[0;34m(\u001b[0m\u001b[0;34m*\u001b[0m\u001b[0margs\u001b[0m\u001b[0;34m,\u001b[0m \u001b[0;34m**\u001b[0m\u001b[0mkwargs\u001b[0m\u001b[0;34m)\u001b[0m\u001b[0;34m\u001b[0m\u001b[0;34m\u001b[0m\u001b[0m\n\u001b[0m\u001b[1;32m   1774\u001b[0m \u001b[0;34m\u001b[0m\u001b[0m\n\u001b[1;32m   1775\u001b[0m     \u001b[0;31m# torchrec tests the code consistency with the following code\u001b[0m\u001b[0;34m\u001b[0m\u001b[0;34m\u001b[0m\u001b[0m\n",
            "\u001b[0;32m/usr/local/lib/python3.12/dist-packages/torch/nn/modules/module.py\u001b[0m in \u001b[0;36m_call_impl\u001b[0;34m(self, *args, **kwargs)\u001b[0m\n\u001b[1;32m   1782\u001b[0m                 \u001b[0;32mor\u001b[0m \u001b[0m_global_backward_pre_hooks\u001b[0m \u001b[0;32mor\u001b[0m \u001b[0m_global_backward_hooks\u001b[0m\u001b[0;34m\u001b[0m\u001b[0;34m\u001b[0m\u001b[0m\n\u001b[1;32m   1783\u001b[0m                 or _global_forward_hooks or _global_forward_pre_hooks):\n\u001b[0;32m-> 1784\u001b[0;31m             \u001b[0;32mreturn\u001b[0m \u001b[0mforward_call\u001b[0m\u001b[0;34m(\u001b[0m\u001b[0;34m*\u001b[0m\u001b[0margs\u001b[0m\u001b[0;34m,\u001b[0m \u001b[0;34m**\u001b[0m\u001b[0mkwargs\u001b[0m\u001b[0;34m)\u001b[0m\u001b[0;34m\u001b[0m\u001b[0;34m\u001b[0m\u001b[0m\n\u001b[0m\u001b[1;32m   1785\u001b[0m \u001b[0;34m\u001b[0m\u001b[0m\n\u001b[1;32m   1786\u001b[0m         \u001b[0mresult\u001b[0m \u001b[0;34m=\u001b[0m \u001b[0;32mNone\u001b[0m\u001b[0;34m\u001b[0m\u001b[0;34m\u001b[0m\u001b[0m\n",
            "\u001b[0;32m/usr/local/lib/python3.12/dist-packages/torch/nn/modules/linear.py\u001b[0m in \u001b[0;36mforward\u001b[0;34m(self, input)\u001b[0m\n\u001b[1;32m    123\u001b[0m \u001b[0;34m\u001b[0m\u001b[0m\n\u001b[1;32m    124\u001b[0m     \u001b[0;32mdef\u001b[0m \u001b[0mforward\u001b[0m\u001b[0;34m(\u001b[0m\u001b[0mself\u001b[0m\u001b[0;34m,\u001b[0m \u001b[0minput\u001b[0m\u001b[0;34m:\u001b[0m \u001b[0mTensor\u001b[0m\u001b[0;34m)\u001b[0m \u001b[0;34m->\u001b[0m \u001b[0mTensor\u001b[0m\u001b[0;34m:\u001b[0m\u001b[0;34m\u001b[0m\u001b[0;34m\u001b[0m\u001b[0m\n\u001b[0;32m--> 125\u001b[0;31m         \u001b[0;32mreturn\u001b[0m \u001b[0mF\u001b[0m\u001b[0;34m.\u001b[0m\u001b[0mlinear\u001b[0m\u001b[0;34m(\u001b[0m\u001b[0minput\u001b[0m\u001b[0;34m,\u001b[0m \u001b[0mself\u001b[0m\u001b[0;34m.\u001b[0m\u001b[0mweight\u001b[0m\u001b[0;34m,\u001b[0m \u001b[0mself\u001b[0m\u001b[0;34m.\u001b[0m\u001b[0mbias\u001b[0m\u001b[0;34m)\u001b[0m\u001b[0;34m\u001b[0m\u001b[0;34m\u001b[0m\u001b[0m\n\u001b[0m\u001b[1;32m    126\u001b[0m \u001b[0;34m\u001b[0m\u001b[0m\n\u001b[1;32m    127\u001b[0m     \u001b[0;32mdef\u001b[0m \u001b[0mextra_repr\u001b[0m\u001b[0;34m(\u001b[0m\u001b[0mself\u001b[0m\u001b[0;34m)\u001b[0m \u001b[0;34m->\u001b[0m \u001b[0mstr\u001b[0m\u001b[0;34m:\u001b[0m\u001b[0;34m\u001b[0m\u001b[0;34m\u001b[0m\u001b[0m\n",
            "\u001b[0;31mRuntimeError\u001b[0m: mat1 and mat2 shapes cannot be multiplied (3584x28 and 784x10)"
          ]
        }
      ]
    },
    {
      "cell_type": "code",
      "source": [
        "images.reshape(128,784).shape"
      ],
      "metadata": {
        "colab": {
          "base_uri": "https://localhost:8080/"
        },
        "id": "wvIOZ27qJums",
        "outputId": "3c03f80c-4f04-41ab-dcee-dc17327b10c6"
      },
      "id": "wvIOZ27qJums",
      "execution_count": 25,
      "outputs": [
        {
          "output_type": "execute_result",
          "data": {
            "text/plain": [
              "torch.Size([128, 784])"
            ]
          },
          "metadata": {},
          "execution_count": 25
        }
      ]
    },
    {
      "cell_type": "code",
      "source": [
        "class MnistModel(nn.Module):\n",
        "  def __init__(self):\n",
        "     super().__init__()\n",
        "     self.linear = nn.Linear(input_size, num_classes)\n",
        "\n",
        "  def forward(self,xb):\n",
        "       xb = xb.reshape(-1,784)\n",
        "       out = self.linear(xb)\n",
        "       return out\n",
        "\n",
        "model = MnistModel()\n"
      ],
      "metadata": {
        "id": "D-vGR4CoLu6W"
      },
      "id": "D-vGR4CoLu6W",
      "execution_count": 26,
      "outputs": []
    },
    {
      "cell_type": "code",
      "source": [
        "model.linear"
      ],
      "metadata": {
        "colab": {
          "base_uri": "https://localhost:8080/"
        },
        "id": "oxoUtAl-M-Q2",
        "outputId": "dc357f24-dd3d-4bbf-c231-16221e4c3169"
      },
      "id": "oxoUtAl-M-Q2",
      "execution_count": 27,
      "outputs": [
        {
          "output_type": "execute_result",
          "data": {
            "text/plain": [
              "Linear(in_features=784, out_features=10, bias=True)"
            ]
          },
          "metadata": {},
          "execution_count": 27
        }
      ]
    },
    {
      "cell_type": "code",
      "source": [
        "for images, labels in train_loader:\n",
        "   outputs = model(images)\n",
        "   break\n",
        "\n",
        "print('outputs.shape : ', outputs.shape)\n",
        "print('Sample outputs :\\n', outputs[:2].data)"
      ],
      "metadata": {
        "colab": {
          "base_uri": "https://localhost:8080/"
        },
        "id": "59wSjLx6NJ62",
        "outputId": "164fd558-d004-4ad5-f083-6958fa51c794"
      },
      "id": "59wSjLx6NJ62",
      "execution_count": 28,
      "outputs": [
        {
          "output_type": "stream",
          "name": "stdout",
          "text": [
            "outputs.shape :  torch.Size([128, 10])\n",
            "Sample outputs :\n",
            " tensor([[ 2.0041e-01,  2.5475e-01,  5.5448e-02, -3.9600e-01,  5.9418e-04,\n",
            "         -5.3055e-02,  2.1968e-02,  3.6784e-02,  9.1761e-03, -3.1618e-01],\n",
            "        [ 3.6737e-01,  1.3948e-01,  2.1770e-01, -9.6539e-02,  4.0004e-01,\n",
            "          3.1390e-01, -1.9734e-01,  1.1586e-01, -2.3074e-01, -6.5279e-01]])\n"
          ]
        }
      ]
    },
    {
      "cell_type": "code",
      "source": [
        "import torch.nn.functional as F"
      ],
      "metadata": {
        "id": "3kBdyrpmPIdF"
      },
      "id": "3kBdyrpmPIdF",
      "execution_count": 29,
      "outputs": []
    },
    {
      "cell_type": "code",
      "source": [
        "outputs[:2]"
      ],
      "metadata": {
        "id": "ixh7OLw2EXLB",
        "outputId": "1d8e1a35-1e93-4c09-cd94-701558d6013a",
        "colab": {
          "base_uri": "https://localhost:8080/"
        }
      },
      "id": "ixh7OLw2EXLB",
      "execution_count": 30,
      "outputs": [
        {
          "output_type": "execute_result",
          "data": {
            "text/plain": [
              "tensor([[ 2.0041e-01,  2.5475e-01,  5.5448e-02, -3.9600e-01,  5.9418e-04,\n",
              "         -5.3055e-02,  2.1968e-02,  3.6784e-02,  9.1761e-03, -3.1618e-01],\n",
              "        [ 3.6737e-01,  1.3948e-01,  2.1770e-01, -9.6539e-02,  4.0004e-01,\n",
              "          3.1390e-01, -1.9734e-01,  1.1586e-01, -2.3074e-01, -6.5279e-01]],\n",
              "       grad_fn=<SliceBackward0>)"
            ]
          },
          "metadata": {},
          "execution_count": 30
        }
      ]
    },
    {
      "cell_type": "code",
      "source": [
        "probs = F.softmax(outputs, dim=1)\n",
        "\n",
        "print(\"Sample probabilities:\\n\", probs[:2].data)\n",
        "\n",
        "print(\"Sum: \" , torch.sum(probs[0]).item())"
      ],
      "metadata": {
        "id": "GTOhjcJoEZQs",
        "outputId": "76180300-0314-48d4-9463-65e1977848a3",
        "colab": {
          "base_uri": "https://localhost:8080/"
        }
      },
      "id": "GTOhjcJoEZQs",
      "execution_count": 31,
      "outputs": [
        {
          "output_type": "stream",
          "name": "stdout",
          "text": [
            "Sample probabilities:\n",
            " tensor([[0.1223, 0.1292, 0.1058, 0.0674, 0.1002, 0.0949, 0.1023, 0.1039, 0.1010,\n",
            "         0.0730],\n",
            "        [0.1329, 0.1058, 0.1144, 0.0836, 0.1373, 0.1260, 0.0756, 0.1034, 0.0731,\n",
            "         0.0479]])\n",
            "Sum:  1.0000001192092896\n"
          ]
        }
      ]
    },
    {
      "cell_type": "code",
      "source": [
        "max_probs, preds = torch.max(probs, dim=1)\n",
        "print(preds)\n",
        "print(max_probs)"
      ],
      "metadata": {
        "id": "OUqbVxVREahd",
        "outputId": "91ae877a-dde9-4a72-9982-412ae8c37c62",
        "colab": {
          "base_uri": "https://localhost:8080/"
        }
      },
      "id": "OUqbVxVREahd",
      "execution_count": 32,
      "outputs": [
        {
          "output_type": "stream",
          "name": "stdout",
          "text": [
            "tensor([1, 4, 0, 5, 0, 0, 0, 0, 0, 2, 0, 0, 1, 0, 2, 0, 0, 5, 1, 0, 5, 0, 5, 0,\n",
            "        0, 4, 2, 2, 5, 1, 1, 1, 5, 1, 5, 1, 2, 0, 4, 0, 0, 0, 5, 1, 0, 0, 1, 6,\n",
            "        0, 4, 0, 1, 1, 0, 2, 5, 5, 5, 1, 2, 1, 6, 7, 1, 1, 0, 4, 0, 1, 0, 1, 6,\n",
            "        0, 0, 1, 1, 1, 0, 1, 0, 1, 1, 2, 1, 0, 0, 0, 5, 0, 0, 2, 0, 0, 0, 2, 0,\n",
            "        0, 0, 0, 0, 0, 2, 5, 0, 1, 2, 4, 4, 5, 0, 2, 2, 1, 1, 5, 0, 1, 0, 5, 0,\n",
            "        5, 2, 8, 1, 5, 1, 0, 5])\n",
            "tensor([0.1292, 0.1373, 0.1235, 0.1443, 0.1203, 0.1433, 0.1184, 0.1525, 0.1357,\n",
            "        0.1164, 0.1218, 0.1252, 0.1254, 0.1187, 0.1338, 0.1259, 0.1282, 0.1301,\n",
            "        0.1418, 0.1142, 0.1515, 0.1529, 0.1552, 0.1350, 0.1263, 0.1302, 0.1216,\n",
            "        0.1492, 0.1524, 0.1222, 0.1208, 0.1271, 0.1134, 0.1288, 0.1343, 0.1183,\n",
            "        0.1198, 0.1522, 0.1287, 0.1682, 0.1354, 0.1290, 0.1263, 0.1334, 0.1189,\n",
            "        0.1301, 0.1319, 0.1298, 0.1375, 0.1415, 0.1253, 0.1207, 0.1324, 0.1330,\n",
            "        0.1365, 0.1418, 0.1483, 0.1272, 0.1316, 0.1299, 0.1226, 0.1341, 0.1140,\n",
            "        0.1369, 0.1418, 0.1413, 0.1235, 0.1283, 0.1305, 0.1292, 0.1227, 0.1382,\n",
            "        0.1143, 0.1287, 0.1373, 0.1295, 0.1470, 0.1277, 0.1268, 0.1206, 0.1285,\n",
            "        0.1271, 0.1321, 0.1311, 0.1243, 0.1382, 0.1287, 0.1335, 0.1340, 0.1131,\n",
            "        0.1349, 0.1320, 0.1276, 0.1280, 0.1338, 0.1488, 0.1249, 0.1505, 0.1346,\n",
            "        0.1534, 0.1324, 0.1277, 0.1232, 0.1265, 0.1376, 0.1278, 0.1478, 0.1251,\n",
            "        0.1307, 0.1411, 0.1212, 0.1458, 0.1212, 0.1504, 0.1357, 0.1438, 0.1458,\n",
            "        0.1351, 0.1347, 0.1296, 0.1239, 0.1385, 0.1224, 0.1216, 0.1463, 0.1173,\n",
            "        0.1224, 0.1277], grad_fn=<MaxBackward0>)\n"
          ]
        }
      ]
    },
    {
      "cell_type": "code",
      "source": [],
      "metadata": {
        "id": "uWIcva0CEnUV"
      },
      "id": "uWIcva0CEnUV",
      "execution_count": null,
      "outputs": []
    }
  ],
  "metadata": {
    "kernelspec": {
      "display_name": "Python 3",
      "name": "python3"
    },
    "language_info": {
      "name": "python"
    },
    "required_libs": [],
    "colab": {
      "provenance": []
    }
  },
  "nbformat": 4,
  "nbformat_minor": 5
}