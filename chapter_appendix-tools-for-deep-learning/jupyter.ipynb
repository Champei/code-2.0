{
  "cells": [
    {
      "cell_type": "code",
      "source": [
        "import torch\n",
        "import torchvision\n",
        "from torchvision.datasets import MNIST"
      ],
      "metadata": {
        "id": "Pi2qX9B9-TKy"
      },
      "id": "Pi2qX9B9-TKy",
      "execution_count": 2,
      "outputs": []
    },
    {
      "cell_type": "code",
      "source": [
        "dataset = MNIST(root='data/', download=True)"
      ],
      "metadata": {
        "colab": {
          "base_uri": "https://localhost:8080/",
          "height": 0
        },
        "id": "bM-MfwMg-krI",
        "outputId": "83f25710-9a14-4ecb-9c1d-98aa5fcb9db1"
      },
      "id": "bM-MfwMg-krI",
      "execution_count": 3,
      "outputs": [
        {
          "output_type": "stream",
          "name": "stderr",
          "text": [
            "100%|██████████| 9.91M/9.91M [00:00<00:00, 37.7MB/s]\n",
            "100%|██████████| 28.9k/28.9k [00:00<00:00, 1.06MB/s]\n",
            "100%|██████████| 1.65M/1.65M [00:00<00:00, 9.38MB/s]\n",
            "100%|██████████| 4.54k/4.54k [00:00<00:00, 6.96MB/s]\n"
          ]
        }
      ]
    },
    {
      "cell_type": "code",
      "source": [
        "len(dataset)"
      ],
      "metadata": {
        "colab": {
          "base_uri": "https://localhost:8080/",
          "height": 0
        },
        "id": "Kfo6N1aS-tbx",
        "outputId": "666307a6-98aa-4b72-d5ea-95107ed0cef9"
      },
      "id": "Kfo6N1aS-tbx",
      "execution_count": 4,
      "outputs": [
        {
          "output_type": "execute_result",
          "data": {
            "text/plain": [
              "60000"
            ]
          },
          "metadata": {},
          "execution_count": 4
        }
      ]
    },
    {
      "cell_type": "code",
      "source": [
        "test_dataset = MNIST(root='data/', train=False)\n",
        "len(test_dataset)"
      ],
      "metadata": {
        "colab": {
          "base_uri": "https://localhost:8080/",
          "height": 0
        },
        "id": "0n1txNnF_E0u",
        "outputId": "5f06bcbc-7afc-4f3d-defe-b6b5133e3d6b"
      },
      "id": "0n1txNnF_E0u",
      "execution_count": 5,
      "outputs": [
        {
          "output_type": "execute_result",
          "data": {
            "text/plain": [
              "10000"
            ]
          },
          "metadata": {},
          "execution_count": 5
        }
      ]
    },
    {
      "cell_type": "code",
      "source": [
        "import matplotlib.pyplot as plt\n",
        "%matplotlib inline"
      ],
      "metadata": {
        "id": "jAJ7yoKq_O--"
      },
      "id": "jAJ7yoKq_O--",
      "execution_count": 6,
      "outputs": []
    },
    {
      "cell_type": "code",
      "source": [
        "image, label = dataset[0]\n",
        "plt.imshow(image , cmap='gray')\n",
        "print('label:', label)"
      ],
      "metadata": {
        "colab": {
          "base_uri": "https://localhost:8080/",
          "height": 447
        },
        "id": "2RcMdPQK_k3p",
        "outputId": "a1346500-ea15-4ba9-c6db-de94a8d0cbcd"
      },
      "id": "2RcMdPQK_k3p",
      "execution_count": 7,
      "outputs": [
        {
          "output_type": "stream",
          "name": "stdout",
          "text": [
            "label: 5\n"
          ]
        },
        {
          "output_type": "display_data",
          "data": {
            "text/plain": [
              "<Figure size 640x480 with 1 Axes>"
            ],
            "image/png": "[encoded data removed]"
          },
          "metadata": {}
        }
      ]
    },
    {
      "cell_type": "code",
      "source": [
        "import torchvision.transforms as transforms"
      ],
      "metadata": {
        "id": "rsIK4ydwAMGR"
      },
      "id": "rsIK4ydwAMGR",
      "execution_count": 8,
      "outputs": []
    },
    {
      "cell_type": "code",
      "source": [
        "dataset = MNIST(root='data/', train=True, transform=transforms.ToTensor())"
      ],
      "metadata": {
        "id": "5C9sgoPaAfZ2"
      },
      "id": "5C9sgoPaAfZ2",
      "execution_count": 9,
      "outputs": []
    },
    {
      "cell_type": "code",
      "source": [
        "img_tensor, label = dataset[0]\n",
        "print(img_tensor.shape)\n",
        "print(label)"
      ],
      "metadata": {
        "colab": {
          "base_uri": "https://localhost:8080/",
          "height": 0
        },
        "id": "Tkz3uyrVC-7z",
        "outputId": "41b27970-e850-4cf3-e40d-a871b9cb52b9"
      },
      "id": "Tkz3uyrVC-7z",
      "execution_count": 10,
      "outputs": [
        {
          "output_type": "stream",
          "name": "stdout",
          "text": [
            "torch.Size([1, 28, 28])\n",
            "5\n"
          ]
        }
      ]
    },
    {
      "cell_type": "code",
      "source": [
        "print(img_tensor[:,10:15,10:15])\n",
        "print(torch.max(img_tensor),torch.min(img_tensor))"
      ],
      "metadata": {
        "colab": {
          "base_uri": "https://localhost:8080/",
          "height": 0
        },
        "id": "mJsCz6LEDMOq",
        "outputId": "39569489-ae43-48ef-c12c-7945929e1b02"
      },
      "id": "mJsCz6LEDMOq",
      "execution_count": 11,
      "outputs": [
        {
          "output_type": "stream",
          "name": "stdout",
          "text": [
            "tensor([[[0.0039, 0.6039, 0.9922, 0.3529, 0.0000],\n",
            "         [0.0000, 0.5451, 0.9922, 0.7451, 0.0078],\n",
            "         [0.0000, 0.0431, 0.7451, 0.9922, 0.2745],\n",
            "         [0.0000, 0.0000, 0.1373, 0.9451, 0.8824],\n",
            "         [0.0000, 0.0000, 0.0000, 0.3176, 0.9412]]])\n",
            "tensor(1.) tensor(0.)\n"
          ]
        }
      ]
    },
    {
      "cell_type": "code",
      "source": [
        "plt.imshow(img_tensor[0,10:15,10:15], cmap='gray');"
      ],
      "metadata": {
        "colab": {
          "base_uri": "https://localhost:8080/",
          "height": 430
        },
        "id": "7xL8vr5YD10t",
        "outputId": "27782d21-8b8d-4f19-fb98-e264e8aa2800"
      },
      "id": "7xL8vr5YD10t",
      "execution_count": 12,
      "outputs": [
        {
          "output_type": "display_data",
          "data": {
            "text/plain": [
              "<Figure size 640x480 with 1 Axes>"
            ],
            "image/png": "[encoded data removed]"
          },
          "metadata": {}
        }
      ]
    },
    {
      "cell_type": "code",
      "source": [
        "from torch.utils.data import random_split\n",
        "\n",
        "train_ds,val_ds = random_split(dataset,[50000,10000])\n",
        "len(train_ds),len(val_ds)"
      ],
      "metadata": {
        "colab": {
          "base_uri": "https://localhost:8080/",
          "height": 0
        },
        "id": "j7aswW_lED5A",
        "outputId": "b60a9cd3-1e47-47cc-f3dd-89557286f8d8"
      },
      "id": "j7aswW_lED5A",
      "execution_count": 13,
      "outputs": [
        {
          "output_type": "execute_result",
          "data": {
            "text/plain": [
              "(50000, 10000)"
            ]
          },
          "metadata": {},
          "execution_count": 13
        }
      ]
    },
    {
      "cell_type": "code",
      "source": [
        "from torch.utils.data import DataLoader\n",
        "\n",
        "batch_size=128\n",
        "\n",
        "train_loader = DataLoader(train_ds,batch_size,shuffle=True)\n",
        "val_loader = DataLoader(val_ds,batch_size)\n",
        "\n"
      ],
      "metadata": {
        "id": "tz7kgonqFhKC"
      },
      "id": "tz7kgonqFhKC",
      "execution_count": 14,
      "outputs": []
    },
    {
      "cell_type": "code",
      "source": [
        "import torch.nn as nn\n",
        "\n",
        "input_size=28*28\n",
        "num_classes = 10\n",
        "\n",
        "model = nn.Linear(input_size, num_classes)"
      ],
      "metadata": {
        "id": "zY3FYjy7H9yi"
      },
      "id": "zY3FYjy7H9yi",
      "execution_count": 15,
      "outputs": []
    },
    {
      "cell_type": "code",
      "source": [
        "print(model.weight.shape)\n",
        "model.weight"
      ],
      "metadata": {
        "colab": {
          "base_uri": "https://localhost:8080/",
          "height": 0
        },
        "id": "W_lLpEP3IL2T",
        "outputId": "51e73142-314b-4016-9662-ec1ada67886c"
      },
      "id": "W_lLpEP3IL2T",
      "execution_count": 16,
      "outputs": [
        {
          "output_type": "stream",
          "name": "stdout",
          "text": [
            "torch.Size([10, 784])\n"
          ]
        },
        {
          "output_type": "execute_result",
          "data": {
            "text/plain": [
              "Parameter containing:\n",
              "tensor([[-1.3726e-02,  1.1372e-02,  5.7998e-03,  ...,  2.8040e-04,\n",
              "          3.0324e-02, -7.6490e-03],\n",
              "        [ 5.5929e-03, -1.3693e-02,  9.8603e-03,  ...,  6.6537e-04,\n",
              "         -2.1128e-02, -1.8092e-02],\n",
              "        [-9.3051e-03,  2.7534e-02, -2.3737e-03,  ..., -7.7746e-05,\n",
              "         -2.4449e-02, -2.6572e-02],\n",
              "        ...,\n",
              "        [ 1.7452e-02,  1.7240e-02, -2.5302e-02,  ...,  2.4795e-02,\n",
              "         -1.1846e-02, -2.7915e-02],\n",
              "        [ 1.5068e-03,  7.9585e-03, -3.3886e-02,  ...,  1.6970e-02,\n",
              "         -2.0417e-02,  1.1408e-02],\n",
              "        [-2.4627e-02,  7.3712e-03,  2.6987e-02,  ...,  1.0187e-02,\n",
              "          2.2666e-02,  1.6524e-02]], requires_grad=True)"
            ]
          },
          "metadata": {},
          "execution_count": 16
        }
      ]
    },
    {
      "cell_type": "code",
      "source": [
        "print(model.bias.shape)\n",
        "model.bias"
      ],
      "metadata": {
        "colab": {
          "base_uri": "https://localhost:8080/",
          "height": 0
        },
        "id": "goPsuKM4IYQz",
        "outputId": "d1937f67-129b-4ba9-8bae-0772c8a0fd20"
      },
      "id": "goPsuKM4IYQz",
      "execution_count": 17,
      "outputs": [
        {
          "output_type": "stream",
          "name": "stdout",
          "text": [
            "torch.Size([10])\n"
          ]
        },
        {
          "output_type": "execute_result",
          "data": {
            "text/plain": [
              "Parameter containing:\n",
              "tensor([-0.0038, -0.0056,  0.0095, -0.0066,  0.0315,  0.0325, -0.0135, -0.0333,\n",
              "        -0.0344,  0.0177], requires_grad=True)"
            ]
          },
          "metadata": {},
          "execution_count": 17
        }
      ]
    },
    {
      "cell_type": "code",
      "source": [
        "for images, labels in train_loader:\n",
        "    print(labels)\n",
        "    print(images.shape)\n",
        "    outputs = model(images)\n",
        "    break"
      ],
      "metadata": {
        "colab": {
          "base_uri": "https://localhost:8080/",
          "height": 460
        },
        "id": "k05NNI56JYvK",
        "outputId": "c560d33e-e0cf-4b32-bac3-cf8421a565f9"
      },
      "id": "k05NNI56JYvK",
      "execution_count": 18,
      "outputs": [
        {
          "output_type": "stream",
          "name": "stdout",
          "text": [
            "tensor([8, 5, 1, 3, 4, 6, 0, 5, 1, 1, 4, 7, 5, 5, 8, 9, 5, 4, 4, 2, 6, 8, 2, 9,\n",
            "        5, 7, 2, 4, 4, 2, 3, 3, 0, 6, 0, 8, 2, 2, 3, 2, 2, 5, 7, 8, 6, 9, 0, 9,\n",
            "        6, 4, 2, 9, 0, 5, 4, 2, 2, 5, 4, 7, 9, 7, 9, 0, 6, 0, 8, 6, 8, 5, 1, 9,\n",
            "        9, 7, 6, 4, 9, 4, 5, 2, 5, 2, 4, 8, 5, 9, 1, 6, 8, 6, 1, 4, 1, 7, 5, 8,\n",
            "        7, 1, 7, 6, 8, 2, 3, 6, 1, 4, 3, 6, 8, 0, 9, 0, 0, 2, 6, 3, 5, 7, 0, 7,\n",
            "        2, 4, 6, 9, 2, 2, 1, 0])\n",
            "torch.Size([128, 1, 28, 28])\n"
          ]
        },
        {
          "output_type": "error",
          "ename": "RuntimeError",
          "evalue": "mat1 and mat2 shapes cannot be multiplied (3584x28 and 784x10)",
          "traceback": [
            "\u001b[0;31m---------------------------------------------------------------------------\u001b[0m",
            "\u001b[0;31mRuntimeError\u001b[0m                              Traceback (most recent call last)",
            "\u001b[0;32m/tmp/ipython-input-2153967048.py\u001b[0m in \u001b[0;36m<cell line: 0>\u001b[0;34m()\u001b[0m\n\u001b[1;32m      2\u001b[0m     \u001b[0mprint\u001b[0m\u001b[0;34m(\u001b[0m\u001b[0mlabels\u001b[0m\u001b[0;34m)\u001b[0m\u001b[0;34m\u001b[0m\u001b[0;34m\u001b[0m\u001b[0m\n\u001b[1;32m      3\u001b[0m     \u001b[0mprint\u001b[0m\u001b[0;34m(\u001b[0m\u001b[0mimages\u001b[0m\u001b[0;34m.\u001b[0m\u001b[0mshape\u001b[0m\u001b[0;34m)\u001b[0m\u001b[0;34m\u001b[0m\u001b[0;34m\u001b[0m\u001b[0m\n\u001b[0;32m----> 4\u001b[0;31m     \u001b[0moutputs\u001b[0m \u001b[0;34m=\u001b[0m \u001b[0mmodel\u001b[0m\u001b[0;34m(\u001b[0m\u001b[0mimages\u001b[0m\u001b[0;34m)\u001b[0m\u001b[0;34m\u001b[0m\u001b[0;34m\u001b[0m\u001b[0m\n\u001b[0m\u001b[1;32m      5\u001b[0m     \u001b[0;32mbreak\u001b[0m\u001b[0;34m\u001b[0m\u001b[0;34m\u001b[0m\u001b[0m\n",
            "\u001b[0;32m/usr/local/lib/python3.12/dist-packages/torch/nn/modules/module.py\u001b[0m in \u001b[0;36m_wrapped_call_impl\u001b[0;34m(self, *args, **kwargs)\u001b[0m\n\u001b[1;32m   1771\u001b[0m             \u001b[0;32mreturn\u001b[0m \u001b[0mself\u001b[0m\u001b[0;34m.\u001b[0m\u001b[0m_compiled_call_impl\u001b[0m\u001b[0;34m(\u001b[0m\u001b[0;34m*\u001b[0m\u001b[0margs\u001b[0m\u001b[0;34m,\u001b[0m \u001b[0;34m**\u001b[0m\u001b[0mkwargs\u001b[0m\u001b[0;34m)\u001b[0m  \u001b[0;31m# type: ignore[misc]\u001b[0m\u001b[0;34m\u001b[0m\u001b[0;34m\u001b[0m\u001b[0m\n\u001b[1;32m   1772\u001b[0m         \u001b[0;32melse\u001b[0m\u001b[0;34m:\u001b[0m\u001b[0;34m\u001b[0m\u001b[0;34m\u001b[0m\u001b[0m\n\u001b[0;32m-> 1773\u001b[0;31m             \u001b[0;32mreturn\u001b[0m \u001b[0mself\u001b[0m\u001b[0;34m.\u001b[0m\u001b[0m_call_impl\u001b[0m\u001b[0;34m(\u001b[0m\u001b[0;34m*\u001b[0m\u001b[0margs\u001b[0m\u001b[0;34m,\u001b[0m \u001b[0;34m**\u001b[0m\u001b[0mkwargs\u001b[0m\u001b[0;34m)\u001b[0m\u001b[0;34m\u001b[0m\u001b[0;34m\u001b[0m\u001b[0m\n\u001b[0m\u001b[1;32m   1774\u001b[0m \u001b[0;34m\u001b[0m\u001b[0m\n\u001b[1;32m   1775\u001b[0m     \u001b[0;31m# torchrec tests the code consistency with the following code\u001b[0m\u001b[0;34m\u001b[0m\u001b[0;34m\u001b[0m\u001b[0m\n",
            "\u001b[0;32m/usr/local/lib/python3.12/dist-packages/torch/nn/modules/module.py\u001b[0m in \u001b[0;36m_call_impl\u001b[0;34m(self, *args, **kwargs)\u001b[0m\n\u001b[1;32m   1782\u001b[0m                 \u001b[0;32mor\u001b[0m \u001b[0m_global_backward_pre_hooks\u001b[0m \u001b[0;32mor\u001b[0m \u001b[0m_global_backward_hooks\u001b[0m\u001b[0;34m\u001b[0m\u001b[0;34m\u001b[0m\u001b[0m\n\u001b[1;32m   1783\u001b[0m                 or _global_forward_hooks or _global_forward_pre_hooks):\n\u001b[0;32m-> 1784\u001b[0;31m             \u001b[0;32mreturn\u001b[0m \u001b[0mforward_call\u001b[0m\u001b[0;34m(\u001b[0m\u001b[0;34m*\u001b[0m\u001b[0margs\u001b[0m\u001b[0;34m,\u001b[0m \u001b[0;34m**\u001b[0m\u001b[0mkwargs\u001b[0m\u001b[0;34m)\u001b[0m\u001b[0;34m\u001b[0m\u001b[0;34m\u001b[0m\u001b[0m\n\u001b[0m\u001b[1;32m   1785\u001b[0m \u001b[0;34m\u001b[0m\u001b[0m\n\u001b[1;32m   1786\u001b[0m         \u001b[0mresult\u001b[0m \u001b[0;34m=\u001b[0m \u001b[0;32mNone\u001b[0m\u001b[0;34m\u001b[0m\u001b[0;34m\u001b[0m\u001b[0m\n",
            "\u001b[0;32m/usr/local/lib/python3.12/dist-packages/torch/nn/modules/linear.py\u001b[0m in \u001b[0;36mforward\u001b[0;34m(self, input)\u001b[0m\n\u001b[1;32m    123\u001b[0m \u001b[0;34m\u001b[0m\u001b[0m\n\u001b[1;32m    124\u001b[0m     \u001b[0;32mdef\u001b[0m \u001b[0mforward\u001b[0m\u001b[0;34m(\u001b[0m\u001b[0mself\u001b[0m\u001b[0;34m,\u001b[0m \u001b[0minput\u001b[0m\u001b[0;34m:\u001b[0m \u001b[0mTensor\u001b[0m\u001b[0;34m)\u001b[0m \u001b[0;34m->\u001b[0m \u001b[0mTensor\u001b[0m\u001b[0;34m:\u001b[0m\u001b[0;34m\u001b[0m\u001b[0;34m\u001b[0m\u001b[0m\n\u001b[0;32m--> 125\u001b[0;31m         \u001b[0;32mreturn\u001b[0m \u001b[0mF\u001b[0m\u001b[0;34m.\u001b[0m\u001b[0mlinear\u001b[0m\u001b[0;34m(\u001b[0m\u001b[0minput\u001b[0m\u001b[0;34m,\u001b[0m \u001b[0mself\u001b[0m\u001b[0;34m.\u001b[0m\u001b[0mweight\u001b[0m\u001b[0;34m,\u001b[0m \u001b[0mself\u001b[0m\u001b[0;34m.\u001b[0m\u001b[0mbias\u001b[0m\u001b[0;34m)\u001b[0m\u001b[0;34m\u001b[0m\u001b[0;34m\u001b[0m\u001b[0m\n\u001b[0m\u001b[1;32m    126\u001b[0m \u001b[0;34m\u001b[0m\u001b[0m\n\u001b[1;32m    127\u001b[0m     \u001b[0;32mdef\u001b[0m \u001b[0mextra_repr\u001b[0m\u001b[0;34m(\u001b[0m\u001b[0mself\u001b[0m\u001b[0;34m)\u001b[0m \u001b[0;34m->\u001b[0m \u001b[0mstr\u001b[0m\u001b[0;34m:\u001b[0m\u001b[0;34m\u001b[0m\u001b[0;34m\u001b[0m\u001b[0m\n",
            "\u001b[0;31mRuntimeError\u001b[0m: mat1 and mat2 shapes cannot be multiplied (3584x28 and 784x10)"
          ]
        }
      ]
    },
    {
      "cell_type": "code",
      "source": [
        "images.reshape(128,784).shape"
      ],
      "metadata": {
        "colab": {
          "base_uri": "https://localhost:8080/",
          "height": 0
        },
        "id": "wvIOZ27qJums",
        "outputId": "8e3d0903-00fa-4e2e-93ad-bcd1127eb60b"
      },
      "id": "wvIOZ27qJums",
      "execution_count": 19,
      "outputs": [
        {
          "output_type": "execute_result",
          "data": {
            "text/plain": [
              "torch.Size([128, 784])"
            ]
          },
          "metadata": {},
          "execution_count": 19
        }
      ]
    },
    {
      "cell_type": "code",
      "source": [
        "class MnistModel(nn.Module):\n",
        "  def __init__(self):\n",
        "     super().__init__()\n",
        "     self.linear = nn.Linear(input_size, num_classes)\n",
        "\n",
        "  def forward(self,xb):\n",
        "       xb = xb.reshape(-1,784)\n",
        "       out = self.linear(xb)\n",
        "       return out\n",
        "\n",
        "model = MnistModel()\n"
      ],
      "metadata": {
        "id": "D-vGR4CoLu6W"
      },
      "id": "D-vGR4CoLu6W",
      "execution_count": 20,
      "outputs": []
    },
    {
      "cell_type": "code",
      "source": [
        "model.linear"
      ],
      "metadata": {
        "colab": {
          "base_uri": "https://localhost:8080/",
          "height": 0
        },
        "id": "oxoUtAl-M-Q2",
        "outputId": "a0f2a552-75f2-4b91-d70b-7e811f2716d0"
      },
      "id": "oxoUtAl-M-Q2",
      "execution_count": 21,
      "outputs": [
        {
          "output_type": "execute_result",
          "data": {
            "text/plain": [
              "Linear(in_features=784, out_features=10, bias=True)"
            ]
          },
          "metadata": {},
          "execution_count": 21
        }
      ]
    },
    {
      "cell_type": "code",
      "source": [
        "for images, labels in train_loader:\n",
        "   outputs = model(images)\n",
        "   break\n",
        "\n",
        "print('outputs.shape : ', outputs.shape)\n",
        "print('Sample outputs :\\n', outputs[:2].data)"
      ],
      "metadata": {
        "colab": {
          "base_uri": "https://localhost:8080/",
          "height": 0
        },
        "id": "59wSjLx6NJ62",
        "outputId": "2083a4d5-08ee-4231-c5f7-7cba5ebcdbc2"
      },
      "id": "59wSjLx6NJ62",
      "execution_count": 22,
      "outputs": [
        {
          "output_type": "stream",
          "name": "stdout",
          "text": [
            "outputs.shape :  torch.Size([128, 10])\n",
            "Sample outputs :\n",
            " tensor([[-0.0211, -0.2107,  0.3467,  0.2337, -0.0158, -0.3682, -0.1462,  0.3078,\n",
            "         -0.1017, -0.0134],\n",
            "        [-0.3434, -0.2334,  0.3237,  0.0786,  0.1698, -0.1128,  0.4259,  0.4470,\n",
            "         -0.0327,  0.0092]])\n"
          ]
        }
      ]
    },
    {
      "cell_type": "code",
      "source": [
        "import torch.nn.functional as F"
      ],
      "metadata": {
        "id": "3kBdyrpmPIdF"
      },
      "id": "3kBdyrpmPIdF",
      "execution_count": 23,
      "outputs": []
    },
    {
      "cell_type": "code",
      "source": [
        "outputs[:2]"
      ],
      "metadata": {
        "colab": {
          "base_uri": "https://localhost:8080/",
          "height": 0
        },
        "id": "ixh7OLw2EXLB",
        "outputId": "0ba6b7eb-a363-429c-8394-08df8847803f"
      },
      "id": "ixh7OLw2EXLB",
      "execution_count": 24,
      "outputs": [
        {
          "output_type": "execute_result",
          "data": {
            "text/plain": [
              "tensor([[-0.0211, -0.2107,  0.3467,  0.2337, -0.0158, -0.3682, -0.1462,  0.3078,\n",
              "         -0.1017, -0.0134],\n",
              "        [-0.3434, -0.2334,  0.3237,  0.0786,  0.1698, -0.1128,  0.4259,  0.4470,\n",
              "         -0.0327,  0.0092]], grad_fn=<SliceBackward0>)"
            ]
          },
          "metadata": {},
          "execution_count": 24
        }
      ]
    },
    {
      "cell_type": "code",
      "source": [
        "probs = F.softmax(outputs, dim=1)\n",
        "\n",
        "print(\"Sample probabilities:\\n\", probs[:2].data)\n",
        "\n",
        "print(\"Sum: \" , torch.sum(probs[0]).item())"
      ],
      "metadata": {
        "colab": {
          "base_uri": "https://localhost:8080/",
          "height": 0
        },
        "id": "GTOhjcJoEZQs",
        "outputId": "9d4b5635-b047-4b75-bb94-556e07f7b667"
      },
      "id": "GTOhjcJoEZQs",
      "execution_count": 25,
      "outputs": [
        {
          "output_type": "stream",
          "name": "stdout",
          "text": [
            "Sample probabilities:\n",
            " tensor([[0.0955, 0.0790, 0.1379, 0.1232, 0.0960, 0.0675, 0.0842, 0.1326, 0.0881,\n",
            "         0.0962],\n",
            "        [0.0638, 0.0712, 0.1244, 0.0973, 0.1066, 0.0804, 0.1377, 0.1407, 0.0871,\n",
            "         0.0908]])\n",
            "Sum:  1.0000001192092896\n"
          ]
        }
      ]
    },
    {
      "cell_type": "code",
      "source": [
        "max_probs, preds = torch.max(probs, dim=1)\n",
        "print(preds)\n",
        "print(max_probs)"
      ],
      "metadata": {
        "colab": {
          "base_uri": "https://localhost:8080/",
          "height": 0
        },
        "id": "OUqbVxVREahd",
        "outputId": "90fe50a6-c162-4e5b-8cb7-1c9002437d21"
      },
      "id": "OUqbVxVREahd",
      "execution_count": 26,
      "outputs": [
        {
          "output_type": "stream",
          "name": "stdout",
          "text": [
            "tensor([2, 7, 7, 7, 7, 2, 2, 2, 7, 7, 7, 7, 7, 3, 7, 7, 7, 7, 2, 6, 7, 3, 7, 7,\n",
            "        7, 7, 7, 2, 7, 7, 2, 2, 4, 7, 7, 7, 6, 7, 7, 2, 7, 7, 2, 2, 2, 7, 7, 7,\n",
            "        7, 6, 7, 7, 7, 7, 7, 7, 4, 2, 7, 7, 6, 7, 7, 3, 2, 7, 7, 7, 7, 7, 7, 7,\n",
            "        7, 7, 7, 7, 6, 6, 7, 3, 7, 7, 7, 7, 7, 2, 7, 7, 7, 7, 7, 7, 7, 7, 7, 7,\n",
            "        7, 7, 7, 7, 2, 7, 6, 4, 7, 7, 7, 6, 7, 7, 4, 1, 7, 7, 7, 3, 7, 2, 2, 7,\n",
            "        4, 7, 4, 2, 7, 7, 4, 7])\n",
            "tensor([0.1379, 0.1407, 0.1446, 0.1499, 0.1217, 0.1310, 0.1223, 0.1298, 0.1861,\n",
            "        0.1261, 0.1421, 0.1332, 0.1452, 0.1267, 0.1186, 0.1363, 0.1467, 0.1355,\n",
            "        0.1526, 0.1433, 0.1630, 0.1313, 0.1588, 0.1150, 0.1189, 0.1382, 0.1511,\n",
            "        0.1398, 0.1350, 0.1282, 0.1277, 0.1317, 0.1301, 0.1691, 0.1438, 0.1759,\n",
            "        0.1448, 0.1234, 0.1676, 0.1280, 0.1455, 0.1445, 0.1202, 0.1371, 0.1454,\n",
            "        0.1077, 0.1273, 0.1658, 0.1453, 0.1348, 0.1739, 0.1511, 0.1659, 0.1320,\n",
            "        0.1178, 0.1622, 0.1387, 0.1390, 0.1423, 0.1817, 0.1357, 0.1565, 0.1538,\n",
            "        0.1315, 0.1581, 0.1414, 0.1435, 0.1484, 0.1322, 0.1713, 0.1668, 0.1357,\n",
            "        0.1357, 0.1731, 0.1322, 0.1212, 0.1437, 0.1215, 0.1511, 0.1301, 0.1491,\n",
            "        0.1795, 0.1638, 0.1380, 0.1464, 0.1381, 0.1232, 0.1812, 0.1449, 0.1554,\n",
            "        0.1265, 0.1412, 0.1353, 0.1359, 0.1454, 0.1481, 0.1473, 0.1449, 0.1368,\n",
            "        0.1474, 0.1396, 0.1474, 0.1414, 0.1463, 0.1726, 0.1933, 0.1227, 0.1633,\n",
            "        0.1236, 0.1704, 0.1288, 0.1161, 0.1622, 0.1517, 0.1721, 0.1472, 0.1344,\n",
            "        0.1498, 0.1302, 0.1476, 0.1223, 0.1274, 0.1110, 0.1349, 0.1295, 0.1314,\n",
            "        0.1198, 0.1576], grad_fn=<MaxBackward0>)\n"
          ]
        }
      ]
    },
    {
      "cell_type": "code",
      "source": [
        "labels"
      ],
      "metadata": {
        "colab": {
          "base_uri": "https://localhost:8080/",
          "height": 0
        },
        "id": "uWIcva0CEnUV",
        "outputId": "1bf61b2a-f8b1-4016-d08b-30dbdd1b35ce"
      },
      "id": "uWIcva0CEnUV",
      "execution_count": 27,
      "outputs": [
        {
          "output_type": "execute_result",
          "data": {
            "text/plain": [
              "tensor([2, 4, 3, 1, 4, 5, 4, 6, 3, 2, 3, 2, 9, 7, 1, 6, 7, 5, 2, 7, 0, 2, 3, 1,\n",
              "        2, 6, 6, 6, 7, 1, 6, 2, 9, 0, 3, 8, 7, 1, 0, 8, 7, 5, 8, 2, 6, 1, 1, 6,\n",
              "        6, 9, 3, 5, 3, 2, 4, 3, 6, 6, 1, 2, 9, 9, 7, 9, 2, 5, 9, 7, 8, 8, 7, 6,\n",
              "        7, 2, 2, 9, 7, 9, 0, 4, 8, 0, 0, 4, 1, 8, 1, 2, 1, 7, 4, 0, 8, 6, 5, 7,\n",
              "        3, 9, 9, 9, 2, 2, 3, 2, 5, 3, 3, 9, 5, 3, 4, 1, 9, 3, 2, 5, 1, 6, 5, 5,\n",
              "        6, 7, 2, 8, 9, 5, 8, 8])"
            ]
          },
          "metadata": {},
          "execution_count": 27
        }
      ]
    },
    {
      "cell_type": "code",
      "source": [
        "def accuracy(outputs,labels):\n",
        "    _, preds = torch.max(outputs,dim=1)\n",
        "    return torch.tensor(torch.sum(preds==labels).item()/len(preds))"
      ],
      "metadata": {
        "id": "rzBHrdFcE2Xc"
      },
      "id": "rzBHrdFcE2Xc",
      "execution_count": 28,
      "outputs": []
    },
    {
      "cell_type": "code",
      "source": [
        "accuracy(outputs , labels)"
      ],
      "metadata": {
        "id": "qEjKaBY_FSsu",
        "outputId": "64201270-3ab4-45b3-a596-f090e6681b93",
        "colab": {
          "base_uri": "https://localhost:8080/",
          "height": 0
        }
      },
      "id": "qEjKaBY_FSsu",
      "execution_count": 29,
      "outputs": [
        {
          "output_type": "execute_result",
          "data": {
            "text/plain": [
              "tensor(0.1406)"
            ]
          },
          "metadata": {},
          "execution_count": 29
        }
      ]
    },
    {
      "cell_type": "code",
      "source": [
        "loss_fn = F.cross_entropy"
      ],
      "metadata": {
        "id": "6weXn9iBFg6Y"
      },
      "id": "6weXn9iBFg6Y",
      "execution_count": 30,
      "outputs": []
    },
    {
      "cell_type": "code",
      "source": [
        "loss = loss_fn(outputs,labels)\n",
        "print(loss)"
      ],
      "metadata": {
        "id": "IhOuFSB9Rz-F",
        "outputId": "a46cfeb5-7cf8-4fd2-a8db-9adf6bfd2204",
        "colab": {
          "base_uri": "https://localhost:8080/",
          "height": 0
        }
      },
      "id": "IhOuFSB9Rz-F",
      "execution_count": 31,
      "outputs": [
        {
          "output_type": "stream",
          "name": "stdout",
          "text": [
            "tensor(2.2862, grad_fn=<NllLossBackward0>)\n"
          ]
        }
      ]
    },
    {
      "cell_type": "code",
      "source": [
        "def evaluate(model, val_loader):\n",
        "    outputs = [model.validation_step(batch) for batch in val_loader]\n",
        "    return model.validation_epoch_end(outputs)"
      ],
      "metadata": {
        "id": "POKVhozQrZc8"
      },
      "id": "POKVhozQrZc8",
      "execution_count": 32,
      "outputs": []
    },
    {
      "cell_type": "code",
      "source": [
        "def fit(epochs, lr, model, train_loader, val_loader, opt_func=torch.optim.SGD):\n",
        "    optimizer = opt_func(model.parameters(), lr)\n",
        "    history = []\n",
        "\n",
        "    for epoch in range(epochs):\n",
        "\n",
        "        #training phase\n",
        "\n",
        "        for batch in train_loader:\n",
        "            loss = model.training_step(batch)\n",
        "            loss.backward()\n",
        "            optimizer.step()\n",
        "            optimizer.zero_grad()\n",
        "\n",
        "        result = evaluate(model, val_loader)\n",
        "        model.epoch_end(epoch, result)\n",
        "        history.append(result)\n",
        "\n",
        "    return history"
      ],
      "metadata": {
        "id": "kzsWXJjsR6MB"
      },
      "id": "kzsWXJjsR6MB",
      "execution_count": 33,
      "outputs": []
    },
    {
      "cell_type": "code",
      "source": [
        "class MnistModel(nn.Module):\n",
        "    def __init__(self):\n",
        "        super().__init__()\n",
        "        self.linear = nn.Linear(input_size, num_classes)\n",
        "\n",
        "    def forward(self, xb):\n",
        "        xb = xb.reshape(-1, 784)\n",
        "        out = self.linear(xb)\n",
        "        return out\n",
        "\n",
        "    def training_step(self, batch):\n",
        "        images, labels = batch\n",
        "        out = self(images)                         # Generate predictions\n",
        "        loss = F.cross_entropy(out, labels)        # Calculate loss\n",
        "        return loss\n",
        "\n",
        "    def validation_step(self, batch):\n",
        "        images, labels = batch\n",
        "        out = self(images)                         # Generate predictions\n",
        "        loss = F.cross_entropy(out, labels)        # Calculate loss\n",
        "        acc = accuracy(out, labels)                # Calculate accuracy\n",
        "        return {'val_loss': loss, 'val_acc': acc}\n",
        "\n",
        "    def validation_epoch_end(self, outputs):\n",
        "        batch_losses = [x['val_loss'] for x in outputs]\n",
        "        epoch_loss = torch.stack(batch_losses).mean()      # Combine losses\n",
        "        batch_accs = [x['val_acc'] for x in outputs]\n",
        "        epoch_acc = torch.stack(batch_accs).mean()         # Combine accuracies\n",
        "        return {'val_loss': epoch_loss.item(), 'val_acc': epoch_acc.item()}\n",
        "\n",
        "    def epoch_end(self, epoch, result):\n",
        "        print(\"Epoch [{}], val_loss: {:.4f}, val_acc: {:.4f}\".format(\n",
        "            epoch, result['val_loss'], result['val_acc']))\n",
        "\n",
        "model = MnistModel()"
      ],
      "metadata": {
        "id": "x4NhXK9Xrgt8"
      },
      "id": "x4NhXK9Xrgt8",
      "execution_count": 34,
      "outputs": []
    },
    {
      "cell_type": "code",
      "source": [
        "result0 = evaluate(model, val_loader)"
      ],
      "metadata": {
        "id": "hiuHETP7xsiD"
      },
      "id": "hiuHETP7xsiD",
      "execution_count": 39,
      "outputs": []
    },
    {
      "cell_type": "code",
      "source": [
        "history1 = fit(5, 0.001, model, train_loader, val_loader)"
      ],
      "metadata": {
        "id": "cgD8Y76XxPGg",
        "outputId": "5e6947f2-9247-4cd6-a2f5-26d8e80821a4",
        "colab": {
          "base_uri": "https://localhost:8080/"
        }
      },
      "id": "cgD8Y76XxPGg",
      "execution_count": 35,
      "outputs": [
        {
          "output_type": "stream",
          "name": "stdout",
          "text": [
            "Epoch [0], val_loss: 1.9657, val_acc: 0.5914\n",
            "Epoch [1], val_loss: 1.6907, val_acc: 0.7272\n",
            "Epoch [2], val_loss: 1.4854, val_acc: 0.7613\n",
            "Epoch [3], val_loss: 1.3303, val_acc: 0.7838\n",
            "Epoch [4], val_loss: 1.2111, val_acc: 0.8011\n"
          ]
        }
      ]
    },
    {
      "cell_type": "code",
      "source": [
        "history2 = fit(5, 0.001, model, train_loader, val_loader)"
      ],
      "metadata": {
        "id": "xfPjy-wbxVAl",
        "outputId": "513bfa9c-fb2f-4a77-cccb-1a7d14d253f6",
        "colab": {
          "base_uri": "https://localhost:8080/"
        }
      },
      "id": "xfPjy-wbxVAl",
      "execution_count": 36,
      "outputs": [
        {
          "output_type": "stream",
          "name": "stdout",
          "text": [
            "Epoch [0], val_loss: 1.1176, val_acc: 0.8112\n",
            "Epoch [1], val_loss: 1.0425, val_acc: 0.8185\n",
            "Epoch [2], val_loss: 0.9812, val_acc: 0.8236\n",
            "Epoch [3], val_loss: 0.9302, val_acc: 0.8297\n",
            "Epoch [4], val_loss: 0.8872, val_acc: 0.8337\n"
          ]
        }
      ]
    },
    {
      "cell_type": "code",
      "source": [
        "history3 = fit(5, 0.001, model, train_loader, val_loader)"
      ],
      "metadata": {
        "id": "zW3tY56kxe8e",
        "outputId": "14ed4e35-dded-4068-c706-c56529f6e307",
        "colab": {
          "base_uri": "https://localhost:8080/"
        }
      },
      "id": "zW3tY56kxe8e",
      "execution_count": 37,
      "outputs": [
        {
          "output_type": "stream",
          "name": "stdout",
          "text": [
            "Epoch [0], val_loss: 0.8503, val_acc: 0.8367\n",
            "Epoch [1], val_loss: 0.8184, val_acc: 0.8396\n",
            "Epoch [2], val_loss: 0.7905, val_acc: 0.8432\n",
            "Epoch [3], val_loss: 0.7659, val_acc: 0.8448\n",
            "Epoch [4], val_loss: 0.7439, val_acc: 0.8463\n"
          ]
        }
      ]
    },
    {
      "cell_type": "code",
      "source": [
        "history4 = fit(5, 0.001, model, train_loader, val_loader)"
      ],
      "metadata": {
        "id": "NrOVnQoWxhKB",
        "outputId": "3549d999-4dd4-4cff-ee68-5f1158588691",
        "colab": {
          "base_uri": "https://localhost:8080/"
        }
      },
      "id": "NrOVnQoWxhKB",
      "execution_count": 38,
      "outputs": [
        {
          "output_type": "stream",
          "name": "stdout",
          "text": [
            "Epoch [0], val_loss: 0.7243, val_acc: 0.8482\n",
            "Epoch [1], val_loss: 0.7065, val_acc: 0.8509\n",
            "Epoch [2], val_loss: 0.6904, val_acc: 0.8530\n",
            "Epoch [3], val_loss: 0.6757, val_acc: 0.8553\n",
            "Epoch [4], val_loss: 0.6623, val_acc: 0.8570\n"
          ]
        }
      ]
    },
    {
      "cell_type": "code",
      "source": [
        "history = [result0] + history1 + history2 + history3 + history4\n",
        "accuracies = [result['val_acc'] for result in history]\n",
        "plt.plot(accuracies, '-x')\n",
        "plt.xlabel('epoch')\n",
        "plt.ylabel('accuracy')\n",
        "plt.title('Accuracy vs. No. of epochs');\n"
      ],
      "metadata": {
        "id": "8e85rKAwxi2r",
        "outputId": "9c85e0fc-ef1d-4b81-b21e-682012cdf7ad",
        "colab": {
          "base_uri": "https://localhost:8080/",
          "height": 472
        }
      },
      "id": "8e85rKAwxi2r",
      "execution_count": 40,
      "outputs": [
        {
          "output_type": "display_data",
          "data": {
            "text/plain": [
              "<Figure size 640x480 with 1 Axes>"
            ],
            "image/png": "[encoded data removed]"
          },
          "metadata": {}
        }
      ]
    },
    {
      "cell_type": "code",
      "source": [],
      "metadata": {
        "id": "x9TPjk8RyCyc"
      },
      "id": "x9TPjk8RyCyc",
      "execution_count": null,
      "outputs": []
    }
  ],
  "metadata": {
    "kernelspec": {
      "display_name": "Python 3",
      "name": "python3"
    },
    "language_info": {
      "name": "python"
    },
    "required_libs": [],
    "colab": {
      "provenance": []
    }
  },
  "nbformat": 4,
  "nbformat_minor": 5
}