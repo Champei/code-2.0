{
  "cells": [
    {
      "cell_type": "code",
      "source": [
        "import torch\n",
        "import torchvision\n",
        "from torchvision.datasets import MNIST"
      ],
      "metadata": {
        "id": "Pi2qX9B9-TKy"
      },
      "id": "Pi2qX9B9-TKy",
      "execution_count": 1,
      "outputs": []
    },
    {
      "cell_type": "code",
      "source": [
        "dataset = MNIST(root='data/', download=True)"
      ],
      "metadata": {
        "colab": {
          "base_uri": "https://localhost:8080/"
        },
        "id": "bM-MfwMg-krI",
        "outputId": "c7c76061-5f07-4f32-fba2-0c238163ee4a"
      },
      "id": "bM-MfwMg-krI",
      "execution_count": 2,
      "outputs": [
        {
          "output_type": "stream",
          "name": "stderr",
          "text": [
            "100%|██████████| 9.91M/9.91M [00:00<00:00, 22.6MB/s]\n",
            "100%|██████████| 28.9k/28.9k [00:00<00:00, 722kB/s]\n",
            "100%|██████████| 1.65M/1.65M [00:00<00:00, 5.68MB/s]\n",
            "100%|██████████| 4.54k/4.54k [00:00<00:00, 10.8MB/s]\n"
          ]
        }
      ]
    },
    {
      "cell_type": "code",
      "source": [
        "len(dataset)"
      ],
      "metadata": {
        "colab": {
          "base_uri": "https://localhost:8080/"
        },
        "id": "Kfo6N1aS-tbx",
        "outputId": "7800b675-dde2-4e73-e4d2-f7ed0d02356e"
      },
      "id": "Kfo6N1aS-tbx",
      "execution_count": 3,
      "outputs": [
        {
          "output_type": "execute_result",
          "data": {
            "text/plain": [
              "60000"
            ]
          },
          "metadata": {},
          "execution_count": 3
        }
      ]
    },
    {
      "cell_type": "code",
      "source": [
        "test_dataset = MNIST(root='data/', train=False)\n",
        "len(test_dataset)"
      ],
      "metadata": {
        "colab": {
          "base_uri": "https://localhost:8080/"
        },
        "id": "0n1txNnF_E0u",
        "outputId": "1eea7b77-2de8-402c-e05c-84a96b76a190"
      },
      "id": "0n1txNnF_E0u",
      "execution_count": 4,
      "outputs": [
        {
          "output_type": "execute_result",
          "data": {
            "text/plain": [
              "10000"
            ]
          },
          "metadata": {},
          "execution_count": 4
        }
      ]
    },
    {
      "cell_type": "code",
      "source": [
        "import matplotlib.pyplot as plt\n",
        "%matplotlib inline"
      ],
      "metadata": {
        "id": "jAJ7yoKq_O--"
      },
      "id": "jAJ7yoKq_O--",
      "execution_count": 5,
      "outputs": []
    },
    {
      "cell_type": "code",
      "source": [
        "image, label = dataset[0]\n",
        "plt.imshow(image , cmap='gray')\n",
        "print('label:', label)"
      ],
      "metadata": {
        "colab": {
          "base_uri": "https://localhost:8080/",
          "height": 447
        },
        "id": "2RcMdPQK_k3p",
        "outputId": "a8043922-ada2-4fc7-d2fa-3217a109a6df"
      },
      "id": "2RcMdPQK_k3p",
      "execution_count": 6,
      "outputs": [
        {
          "output_type": "stream",
          "name": "stdout",
          "text": [
            "label: 5\n"
          ]
        },
        {
          "output_type": "display_data",
          "data": {
            "text/plain": [
              "<Figure size 640x480 with 1 Axes>"
            ],
            "image/png": "[encoded data removed]"
          },
          "metadata": {}
        }
      ]
    },
    {
      "cell_type": "code",
      "source": [
        "import torchvision.transforms as transforms"
      ],
      "metadata": {
        "id": "rsIK4ydwAMGR"
      },
      "id": "rsIK4ydwAMGR",
      "execution_count": 7,
      "outputs": []
    },
    {
      "cell_type": "code",
      "source": [
        "dataset = MNIST(root='data/', train=True, transform=transforms.ToTensor())"
      ],
      "metadata": {
        "id": "5C9sgoPaAfZ2"
      },
      "id": "5C9sgoPaAfZ2",
      "execution_count": 8,
      "outputs": []
    },
    {
      "cell_type": "code",
      "source": [
        "img_tensor, label = dataset[0]\n",
        "print(img_tensor.shape)\n",
        "print(label)"
      ],
      "metadata": {
        "colab": {
          "base_uri": "https://localhost:8080/"
        },
        "id": "Tkz3uyrVC-7z",
        "outputId": "e7f49a0b-417f-49c4-8f33-c3f4bef5f2e9"
      },
      "id": "Tkz3uyrVC-7z",
      "execution_count": 9,
      "outputs": [
        {
          "output_type": "stream",
          "name": "stdout",
          "text": [
            "torch.Size([1, 28, 28])\n",
            "5\n"
          ]
        }
      ]
    },
    {
      "cell_type": "code",
      "source": [
        "print(img_tensor[:,10:15,10:15])\n",
        "print(torch.max(img_tensor),torch.min(img_tensor))"
      ],
      "metadata": {
        "colab": {
          "base_uri": "https://localhost:8080/"
        },
        "id": "mJsCz6LEDMOq",
        "outputId": "759aac76-fd10-404d-f9bd-0c10284460fa"
      },
      "id": "mJsCz6LEDMOq",
      "execution_count": 10,
      "outputs": [
        {
          "output_type": "stream",
          "name": "stdout",
          "text": [
            "tensor([[[0.0039, 0.6039, 0.9922, 0.3529, 0.0000],\n",
            "         [0.0000, 0.5451, 0.9922, 0.7451, 0.0078],\n",
            "         [0.0000, 0.0431, 0.7451, 0.9922, 0.2745],\n",
            "         [0.0000, 0.0000, 0.1373, 0.9451, 0.8824],\n",
            "         [0.0000, 0.0000, 0.0000, 0.3176, 0.9412]]])\n",
            "tensor(1.) tensor(0.)\n"
          ]
        }
      ]
    },
    {
      "cell_type": "code",
      "source": [
        "plt.imshow(img_tensor[0,10:15,10:15], cmap='gray');"
      ],
      "metadata": {
        "colab": {
          "base_uri": "https://localhost:8080/",
          "height": 430
        },
        "id": "7xL8vr5YD10t",
        "outputId": "595309ee-ebe7-4ad4-f46e-9b31fc674824"
      },
      "id": "7xL8vr5YD10t",
      "execution_count": 11,
      "outputs": [
        {
          "output_type": "display_data",
          "data": {
            "text/plain": [
              "<Figure size 640x480 with 1 Axes>"
            ],
            "image/png": "[encoded data removed]"
          },
          "metadata": {}
        }
      ]
    },
    {
      "cell_type": "code",
      "source": [
        "from torch.utils.data import random_split\n",
        "\n",
        "train_ds,val_ds = random_split(dataset,[50000,10000])\n",
        "len(train_ds),len(val_ds)"
      ],
      "metadata": {
        "colab": {
          "base_uri": "https://localhost:8080/"
        },
        "id": "j7aswW_lED5A",
        "outputId": "365f469c-c975-4337-db03-4936abe77c31"
      },
      "id": "j7aswW_lED5A",
      "execution_count": 12,
      "outputs": [
        {
          "output_type": "execute_result",
          "data": {
            "text/plain": [
              "(50000, 10000)"
            ]
          },
          "metadata": {},
          "execution_count": 12
        }
      ]
    },
    {
      "cell_type": "code",
      "source": [],
      "metadata": {
        "id": "tz7kgonqFhKC"
      },
      "id": "tz7kgonqFhKC",
      "execution_count": null,
      "outputs": []
    }
  ],
  "metadata": {
    "kernelspec": {
      "display_name": "Python 3",
      "name": "python3"
    },
    "language_info": {
      "name": "python"
    },
    "required_libs": [],
    "colab": {
      "provenance": []
    }
  },
  "nbformat": 4,
  "nbformat_minor": 5
}